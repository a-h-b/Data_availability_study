{
 "cells": [
  {
   "cell_type": "markdown",
   "metadata": {},
   "source": [
    "# Mining articles for sequence data\n",
    "\n",
    "Starting with a .pdf file, make sure the file name contains no spaces and special characters. Let's assume your article .pdf file is called GreatScience.pdf for this walkthrough."
   ]
  },
  {
   "cell_type": "markdown",
   "metadata": {},
   "source": [
    "**Step 0**: Activate environment, if you haven't done so to access the notebook. Throughout the notebook, we need to let your operating system know where conda put the perl modules. \n",
    "Note: We've put as many tools as possible in the pdf2seq.yaml for a quick conda installation (if your unfamiliar with conda/creating environments from files, see [here](https://docs.conda.io/projects/conda/en/latest/user-guide/tasks/manage-environments.html)). *On the first use, you also need to install GROBID and teitocsv, as described [here](https://grobid.readthedocs.io/en/latest/Install-Grobid) and [here](https://github.com/komax/teitocsv).*"
   ]
  },
  {
   "cell_type": "markdown",
   "metadata": {},
   "source": [
    "**Step 1**: Check .pdf format. We use `pdfinfo` from [poppler tools](https://poppler.freedesktop.org/):"
   ]
  },
  {
   "cell_type": "code",
   "execution_count": 2,
   "metadata": {},
   "outputs": [
    {
     "name": "stdout",
     "output_type": "stream",
     "text": [
      "Title:          Whole metagenome profiles of particulates collected from the International Space Station\n",
      "Subject:        Microbiome, 2017, doi:10.1186/s40168-017-0292-4\n",
      "Keywords:       International Space Station,Microbiome,Functional metagenomics,Built environment,Cleanroom,Propidium monoazide\n",
      "Author:         Nicholas A. Be\n",
      "Creator:        Arbortext Advanced Print Publisher 9.1.440/W Unicode\n",
      "Producer:       Acrobat Distiller 10.1.5 (Windows); modified using iText® 5.3.5 ©2000-2012 1T3XT BVBA (AGPL-version)\n",
      "CreationDate:   Sat Jul 15 05:26:10 2017 CEST\n",
      "ModDate:        Mon Jul 17 18:20:29 2017 CEST\n",
      "Tagged:         no\n",
      "UserProperties: no\n",
      "Suspects:       no\n",
      "Form:           none\n",
      "JavaScript:     no\n",
      "Pages:          19\n",
      "Encrypted:      no\n",
      "Page size:      595.276 x 790.866 pts\n",
      "Page rot:       0\n",
      "File size:      2119517 bytes\n",
      "Optimized:      no\n",
      "PDF version:    1.4\n"
     ]
    }
   ],
   "source": [
    "%%bash\n",
    "pdfinfo GreatScience.pdf"
   ]
  },
  {
   "cell_type": "markdown",
   "metadata": {},
   "source": [
    "**Step 2**: Convert .pdf file to text. We will use this file later to search for accession numbers. We use `pdftotext` from [poppler tools](https://poppler.freedesktop.org/):"
   ]
  },
  {
   "cell_type": "code",
   "execution_count": 3,
   "metadata": {},
   "outputs": [
    {
     "name": "stdout",
     "output_type": "stream",
     "text": [
      "Be et al. Microbiome (2017) 5:81\n",
      "DOI 10.1186/s40168-017-0292-4\n",
      "\n",
      "RESEARCH\n",
      "\n",
      "Open Access\n",
      "\n",
      "Whole metagenome profiles of particulates\n",
      "collected from the International Space\n",
      "Station\n"
     ]
    }
   ],
   "source": [
    "%%bash\n",
    "mkdir GreatScience_text_mining\n",
    "pdftotext GreatScience.pdf GreatScience_text_mining/GreatScience.txt\n",
    "head GreatScience_text_mining/GreatScience.txt"
   ]
  },
  {
   "cell_type": "markdown",
   "metadata": {},
   "source": [
    "**Step 3**: Convert .pdf article file to TEI XML. The .xml will contain structured information, including DOI, Journal, year of publication amongst others. We use [GROBID](https://github.com/kermitt2/grobid)'s command `processFulltext` for this task:"
   ]
  },
  {
   "cell_type": "code",
   "execution_count": 4,
   "metadata": {},
   "outputs": [
    {
     "name": "stdout",
     "output_type": "stream",
     "text": [
      "Processing: ./GreatScience.pdf\n",
      "\n",
      "************************************************************************************\n",
      "COUNTER: org.grobid.core.engines.counters.ReferenceMarkerMatcherCounters\n",
      "************************************************************************************\n",
      "------------------------------------------------------------------------------------\n",
      "  STYLE_NUMBERED:        101\n",
      "  INPUT_REF_STRINGS_CNT: 101\n",
      "  MATCHED_REF_MARKERS:   122\n",
      "====================================================================================\n",
      "\n",
      "************************************************************************************\n",
      "COUNTER: org.grobid.core.engines.label.TaggingLabelImpl\n",
      "************************************************************************************\n",
      "------------------------------------------------------------------------------------\n",
      "  FIGURE_LABEL:             5\n",
      "  CITATION_TITLE:           85\n",
      "  NAME-HEADER_MIDDLENAME:   6\n",
      "  CITATION_DATE:            86\n",
      "  CITATION_AUTHOR:          85\n",
      "  FULLTEXT_FIGURE:          10\n",
      "  NAME-HEADER_SURNAME:      14\n",
      "  NAME-HEADER_OTHER:        16\n",
      "  NAME-CITATION_OTHER:      389\n",
      "  FIGURE_FIGDESC:           4\n",
      "  CITATION_NOTE:            4\n",
      "  CITATION_VOLUME:          81\n",
      "  FULLTEXT_CITATION_MARKER: 200\n",
      "  CITATION_LOCATION:        2\n",
      "  FULLTEXT_TABLE_MARKER:    2\n",
      "  CITATION_WEB:             3\n",
      "  CITATION_INSTITUTION:     1\n",
      "  FULLTEXT_SECTION:         74\n",
      "  NAME-HEADER_FORENAME:     14\n",
      "  CITATION_PAGES:           84\n",
      "  CITATION_ISSUE:           65\n",
      "  NAME-HEADER_MARKER:       14\n",
      "  CITATION_JOURNAL:         81\n",
      "  NAME-CITATION_FORENAME:   468\n",
      "  NAME-CITATION_SURNAME:    458\n",
      "  CITATION_PUBLISHER:       1\n",
      "  CITATION_OTHER:           475\n",
      "  FULLTEXT_FIGURE_MARKER:   114\n",
      "  NAME-CITATION_MIDDLENAME: 2\n",
      "  CITATION_TECH:            1\n",
      "  CITATION_PUBNUM:          1\n",
      "  FULLTEXT_PARAGRAPH:       456\n",
      "  FIGURE_FIGURE_HEAD:       5\n",
      "====================================================================================\n",
      "\n",
      "************************************************************************************\n",
      "COUNTER: FigureCounters\n",
      "************************************************************************************\n",
      "------------------------------------------------------------------------------------\n",
      "  STANDALONE_FIGURES:           2\n",
      "  ASSIGNED_GRAPHICS_TO_FIGURES: 5\n",
      "====================================================================================\n",
      "====================================================================================\n",
      "\n"
     ]
    }
   ],
   "source": [
    "%%bash\n",
    "java -jar grobid-0.5.6/grobid-core/build/libs/grobid-core-0.5.6-onejar.jar -gH grobid-0.5.6/grobid-home -dIn . -dOut GreatScience_text_mining -exe processFullText 2> GreatScience_text_mining/grobid.log"
   ]
  },
  {
   "cell_type": "code",
   "execution_count": 5,
   "metadata": {},
   "outputs": [
    {
     "name": "stdout",
     "output_type": "stream",
     "text": [
      "<?xml version=\"1.0\" encoding=\"UTF-8\"?>\n",
      "<TEI xml:space=\"preserve\" xmlns=\"http://www.tei-c.org/ns/1.0\" \n",
      "xmlns:xsi=\"http://www.w3.org/2001/XMLSchema-instance\" \n",
      " xmlns:xlink=\"http://www.w3.org/1999/xlink\">\n",
      "\t<teiHeader xml:lang=\"en\">\n",
      "\t\t<fileDesc>\n",
      "\t\t\t<titleStmt>\n",
      "\t\t\t\t<title level=\"a\" type=\"main\">Whole metagenome profiles of particulates collected from the International Space Station</title>\n",
      "\t\t\t</titleStmt>\n"
     ]
    }
   ],
   "source": [
    "%%bash\n",
    "head GreatScience_text_mining/GreatScience.tei.xml | grep -v \"schemaLocation\""
   ]
  },
  {
   "cell_type": "markdown",
   "metadata": {},
   "source": [
    "**Step 4**: Mine TEI XML and text for article metadata, in addition to accession number and keywords. This is accomplished by the command `XXX` from teitocsv. This will return a comma separated text file with all the interesting information. In particular, each line will contain one accession number."
   ]
  },
  {
   "cell_type": "code",
   "execution_count": 6,
   "metadata": {},
   "outputs": [
    {
     "name": "stdout",
     "output_type": "stream",
     "text": [
      "Handled GreatScience_text_mining/GreatScience.tei.xml\n",
      "Done with parsing\n",
      "Done with appending\n",
      "Done with csv\n",
      "ID,Title,DOI,16ness,accession,515f,806r,seq_method,gene_region1,gene_region2,gene_region3,gene_region4,gene_region5,gene_region6,gene_region7,gene_region8,gene_region_9\n",
      "GreatScience,Whole metagenome profiles of particulates collected from the International Space Station,10.1186/s40168-017-0292-4,True,PRJNA363053,,,illumina,,,,,,,,,\n"
     ]
    }
   ],
   "source": [
    "%%bash\n",
    "teitocsv/teitocsv/bacteriacsv.py GreatScience_text_mining/ GreatScience_text_mining/GreatScience.txt GreatScience_text_mining/GreatScience.csv\n",
    "cat GreatScience_text_mining/GreatScience.csv"
   ]
  },
  {
   "cell_type": "markdown",
   "metadata": {},
   "source": [
    "**Step 5**: Access metadata via esearch and efetch NCBI's edirect suite. "
   ]
  },
  {
   "cell_type": "code",
   "execution_count": 20,
   "metadata": {},
   "outputs": [
    {
     "name": "stdout",
     "output_type": "stream",
     "text": [
      "PRJNA363053\n",
      "Run,ReleaseDate,LoadDate,spots,bases,spots_with_mates,avgLength,size_MB,AssemblyName,download_path,Experiment,LibraryName,LibraryStrategy,LibrarySelection,LibrarySource,LibraryLayout,InsertSize,InsertDev,Platform,Model,SRAStudy,BioProject,Study_Pubmed_id,ProjectID,Sample,BioSample,SampleType,TaxID,ScientificName,SampleName,g1k_pop_code,source,g1k_analysis_group,Subject_ID,Sex,Disease,Tumor,Affection_Status,Analyte_Type,Histological_Type,Body_Site,CenterName,Submission,dbgap_study_accession,Consent,RunHash,ReadHash\n",
      "SRR5197511,2017-01-31 16:39:51,2017-01-31 15:51:26,18648924,5317902837,18648924,285,2171,,https://sra-downloadb.be-md.ncbi.nlm.nih.gov/sos1/sra-pub-run-1/SRR5197511/SRR5197511.1,SRX2512994,ISS_DN,WGA,MDA,METAGENOMIC,PAIRED,0,0,ILLUMINA,NextSeq 500,SRP097683,PRJNA363053,,363053,SRS1013545,SAMN03863798,simple,1256227,indoor metagenome,ISS_Debris,,,,,,,no,,,,,LAWRENCE LIVERMORE NATIONAL LABORATORY,SRA531055,,public,B00A8A6761169CB4EBFA76E3EE52EC5A,6582882B4318A23E8AA8C2AA65D3B434\n",
      "SRR5197512,2017-01-31 16:39:51,2017-01-31 15:59:12,18031154,4738329368,18031154,262,1817,,https://sra-downloadb.be-md.ncbi.nlm.nih.gov/sos2/sra-pub-run-9/SRR5197512/SRR5197512.1,SRX2512995,ISS_DP,WGA,MDA,METAGENOMIC,PAIRED,0,0,ILLUMINA,NextSeq 500,SRP097683,PRJNA363053,,363053,SRS1013547,SAMN03863799,simple,1256227,indoor metagenome,ISS_Debris_PMA,,,,,,,no,,,,,LAWRENCE LIVERMORE NATIONAL LABORATORY,SRA531055,,public,1A85C07B7ADA1C21200CFAE9EB505491,CE907CFFF9D8A46EB1027E771A16DC00\n"
     ]
    }
   ],
   "source": [
    "%%bash\n",
    "export PERL5LIB=$CONDA_PREFIX/lib/site_perl/5.26.2\n",
    "mkdir GreatScience_SRA_data\n",
    "for acc in `cut -f 5 -d \",\" GreatScience_text_mining/GreatScience.csv | tail -n +2 | uniq `; do\n",
    "  echo $acc\n",
    "  esearch -db sra -q $acc | efetch -format runinfo >> GreatScience_SRA_data/runInfo.$acc.tsv\n",
    "  head -n 3 GreatScience_SRA_data/runInfo.$acc.tsv\n",
    "done"
   ]
  },
  {
   "cell_type": "markdown",
   "metadata": {},
   "source": [
    "**alternative to step 5**: instead of searching sra, we could search the database containing the sort of accession we have (e.g. bioproject, run, biosample). An example for a bioproject is this:\n",
    "```\n",
    "acc=\"PRJNA356464\"\n",
    "esearch -db bioproject -query $acc | elink -target sra | efetch -format runinfo >> GreatScience_SRA_data/runInfo.$acc.csv\n",
    "```\n",
    "And a biosample would be entered like so:\n",
    "```\n",
    "acc=\"SAMN06114300\"\n",
    "esearch -db biosample -query $acc | elink -target sra | efetch -format runinfo >> GreatScience_SRA_data/runInfo.$acc.csv\n",
    "```\n",
    "While a run accession could be directly used like this:\n",
    "```\n",
    "acc=\"SRR2939657\"\n",
    "efetch -db sra -format runinfo -id $acc >> GreatScience_SRA_data/runInfo.$acc.csv\n",
    "```"
   ]
  },
  {
   "cell_type": "markdown",
   "metadata": {},
   "source": [
    "**Step 6**: For each biosample, access metadata on NCBI using edirect. *At this point, we could filter the list and include only runs with a specific sequencing technology, layout etc.*"
   ]
  },
  {
   "cell_type": "code",
   "execution_count": 22,
   "metadata": {},
   "outputs": [],
   "source": [
    "%%bash\n",
    "export PERL5LIB=$CONDA_PREFIX/lib/site_perl/5.26.2\n",
    "for acc in `cut -f 5 -d \",\" GreatScience_text_mining/GreatScience.csv | tail -n +2 | uniq`; do\n",
    "  for sam in `awk -F ',' 'NR==1 {for (i=1; i<=NF; i++) {f[$i] = i}}{if (NR!=1) print $(f[\"BioSample\"]) }' GreatScience_SRA_data/runInfo.$acc.tsv | uniq`; do\n",
    "    esearch -db sra -query $sam | elink -target biosample | efetch -format docsum | xtract -pattern DocumentSummary -element Attribute@attribute_name,Attribute >> GreatScience_SRA_data/biosampleInfo.$acc.$sam.tsv\n",
    "  done\n",
    "done"
   ]
  },
  {
   "cell_type": "code",
   "execution_count": 23,
   "metadata": {},
   "outputs": [
    {
     "name": "stdout",
     "output_type": "stream",
     "text": [
      "GreatScience_SRA_data/biosampleInfo.PRJNA363053.SAMN03863796.tsv\n",
      "GreatScience_SRA_data/biosampleInfo.PRJNA363053.SAMN03863797.tsv\n",
      "GreatScience_SRA_data/biosampleInfo.PRJNA363053.SAMN03863798.tsv\n",
      "GreatScience_SRA_data/biosampleInfo.PRJNA363053.SAMN03863799.tsv\n",
      "GreatScience_SRA_data/biosampleInfo.PRJNA363053.SAMN03863800.tsv\n",
      "GreatScience_SRA_data/biosampleInfo.PRJNA363053.SAMN03863801.tsv\n"
     ]
    }
   ],
   "source": [
    "%%bash\n",
    "ls GreatScience_SRA_data/biosampleInfo.*.tsv"
   ]
  },
  {
   "cell_type": "markdown",
   "metadata": {},
   "source": [
    "**Step 7**: Get first few reads of one run per accession using edirect. *Here, again, we can choose to use only some samples, based on what we know from the biosample metadata*."
   ]
  },
  {
   "cell_type": "code",
   "execution_count": 25,
   "metadata": {},
   "outputs": [
    {
     "name": "stdout",
     "output_type": "stream",
     "text": [
      "\n",
      "2020-03-19T10:50:06 prefetch.2.9.6: 1) 'SRR5197511' is found locally\n",
      "2020-03-19T10:50:06 prefetch.2.9.6: 'SRR5197511' has 0 unresolved dependencies\n",
      "Read 4 spots for SRR5197511\n",
      "Written 4 spots for SRR5197511\n",
      "@SRR5197511.1 1 length=151\n",
      "CGTATNGCCTGCGATACATGAGCGAGGANGAGCGGGAGCGCCAGCGNGAGCGTGGACGGCGCGGCGGACTNGTGAACAGCCAANAGCAGCAGCAAGCAAGGGCGCAAGGCCCGCAGGTCNCTGCCATGATCCGTTCGGNCNAAGCCGTAGG\n",
      "+SRR5197511.1 1 length=151\n",
      "AAAAA#EEEEEEEEEEEEEEEEEEEEEE#EEEEEEEEEEEEEEEEE#EEEEEEEEEEEEEEEEEEEEEEE#EEEAEE/EEEEE#EEEEEEEEEEEEEE/E/EEEEEAEEEEEEEEEEEE#EEAEEEEE/EEEAEEEAA#A#/AAEEAE<<A\n",
      "@SRR5197511.2 2 length=151\n",
      "CTAGTNAGTTCCAACCACTGTGCGTCCANAACCCGCCCACCTCATTTGCTATTTCTCGGTTGGGGTCTAANGGTGTCCCAGCCNCCGGCGCGGGCTCGTGCCACGTTGTGGGCCTTTGGNCCCGGTTCGTGTTGAACCNGNACTAAAGGGG\n",
      "+SRR5197511.2 2 length=151\n",
      "AAAAA#EEEEEE/AEEEEEEEEEEEEEE#EAEEEEEEAEEEEEEEEEEEEEAEEEAEEEEEEEEEEEEE/#EEEEEEEEEEEE#EEA<EEEEEEEEEEEEEEAEEEEEEEE/EEEEEEE#<EE<EEEE/EEEEA/<EA#/#EEEAAE<EE<\n",
      "@SRR5197511.3 3 length=151\n",
      "AAAGGNGGGGACCTTTAGTGCCCACCCTTTAGTGCCGTCTCCAGAACCGGCACTAAAGGGCCTTACGAACCGGGACTATACCCCAAAACAGCACAAATGACTTCCAACCACTGAGCGACNAGAACACGACCACCACATNTNGGATTTCGCG\n",
      "+SRR5197511.3 3 length=151\n",
      "AAAAA#EEEEEEAEEEEEEEEE/AAEEEE<EEEEEAEAE/EEE/AEAA//EEEEEEEEEEEEEE/A/<//////<<///</EA<A//////<///6//E////<//6E<E/A///E///#///////////<<///</#E#/////////6\n",
      "@SRR5197511.4 4 length=151\n",
      "CCTTTAGTGCCCACCCTTTAGTGCCGTCTCCAGAACCGGCACTAAAGGGCCTTACGAACCGGGACTATAGCCCAATTCTGCACTAGTGAGTTCCAACCACTGTGCGTCCAGAACCCGCCNACCTCATTTGCTATTTCTNGNTTGGGGTCTA\n",
      "+SRR5197511.4 4 length=151\n",
      "AAAAAEEEEEEAEEEEEEEEEEEAEEEEEEEEEEEEEEEEEEEAEAEEEEEEEEEEEAEEEAE/AEEE/A/</EEEEAEEE/<E/E</EEEE/E/E</<EE/EE<AE//E/EAEE/<A/#E/<E/EEEE//EEEEA/<#A#EEEAE<EAE/\n",
      "@SRR5197511.1 1 length=151\n",
      "CCCCGAGGCNTNNCCGNNNNNNNNNNNNNNNNNNCAANNNNNNNNNNCCNNNNNNCNNNNNNNNNNNNNNNNNNNNNNNNNNNNTCGNGCCTGNCNNNNNNNNNNNNNNANGGANNNNNNNNNNNNNNNNNNNNNNNNNNNNNNNNNNNNN\n",
      "+SRR5197511.1 1 length=151\n",
      "AAAAAEEEE#E##EEE##################EEE##########EE######E############################EEE#EEEEE#E##############E#EEE#####################################\n",
      "@SRR5197511.2 2 length=151\n",
      "CTAAAGGTCCCNNCCTNNNNNNNNNNNNNNNNNCGAANNNNNNNNNNAGGNCNACANNNNNNNNNGNNNCNGNNNNNNNNGNTNGGACACCGTNAGACNNNNNNNNNNNAATAGNNNNNNNNNNNNNNNNNNNNNNNNNNNNNNNNNNNNN\n",
      "+SRR5197511.2 2 length=151\n",
      "AAAAAEAEEEE##EEE#################A/AE##########EEA#E#EEE#########/###E#/########A#E#/EAEEEAAE#AEAE###########/E</6#####################################\n",
      "@SRR5197511.3 3 length=151\n",
      "GCCCATTAGTGNCGGTTCNNNNNNNNNCNCTNNAGGGTGGNCNNTANAGGNCCCCCCNNNNANTNCTCTTNANNNNNNNNCNCGCACCAAACGNACACANNNNNNNNNAACCCCGNNNANNNNNNNNNNNNNNNNNNNNNNNNANNNNNNN\n",
      "+SRR5197511.3 3 length=151\n",
      "AAAA/EEEEEE#EEEAEE#########E#EE##/E/AEEE#E##EE#E/E#6EEEAE####A#/#6E6/6#E########/#/6///E/<</6#/EE//#########/6//AA/###/########################/#######\n",
      "@SRR5197511.4 4 length=151\n",
      "GGTTCGTAAGGNCCTTTANNNNNNNNTCTGGNNACGGCACNANNGGNTGGNCACTAAAGNNANCNCCCTTNANNNNNGGTTCAACACGAACCGNGACCANNGNNNNNCAACGTGGNNNANCNNNNNNNNNNNNNNNNNNNAANCNNNNNNN\n",
      "+SRR5197511.4 4 length=151\n",
      "AAAAAEEEEEE#EEEEE/########E<EEE##EEEEEEE#/##EE#EEE#EEEE<EEE##/#/#/E/EE#/#####/<EEEAE/AE</AE</#/</AA##/#####/<E//AE/###/#/###################/6#/#######\n"
     ]
    },
    {
     "name": "stderr",
     "output_type": "stream",
     "text": [
      "2020-03-19T10:50:06 vdb-validate.2.9.6 info: Validating '/work/ncbi/sra/SRR5197511.sra'...\n",
      "2020-03-19T10:50:06 vdb-validate.2.9.6 info: Database 'SRR5197511.sra' metadata: md5 ok\n",
      "2020-03-19T10:50:06 vdb-validate.2.9.6 info: Table 'SEQUENCE' metadata: md5 ok\n",
      "2020-03-19T10:50:07 vdb-validate.2.9.6 info: Column 'ALTREAD': checksums ok\n",
      "2020-03-19T10:50:09 vdb-validate.2.9.6 info: Column 'QUALITY': checksums ok\n",
      "2020-03-19T10:50:11 vdb-validate.2.9.6 info: Column 'READ': checksums ok\n",
      "2020-03-19T10:50:12 vdb-validate.2.9.6 info: Column 'READ_LEN': checksums ok\n",
      "2020-03-19T10:50:13 vdb-validate.2.9.6 info: Column 'READ_START': checksums ok\n",
      "2020-03-19T10:50:14 vdb-validate.2.9.6 info: Column 'SPOT_GROUP': checksums ok\n",
      "2020-03-19T10:50:14 vdb-validate.2.9.6 info: Database '/work/ncbi/sra/SRR5197511.sra' contains only unaligned reads\n",
      "2020-03-19T10:50:14 vdb-validate.2.9.6 info: Database 'SRR5197511.sra' is consistent\n"
     ]
    }
   ],
   "source": [
    "%%bash\n",
    "mkdir GreatScience_tmp\n",
    "cd GreatScience_tmp\n",
    "for acc in `cut -f 5 -d \",\" ../GreatScience_text_mining/GreatScience.csv | tail -n +2 | uniq`; do\n",
    "  for run_acc in `awk -F ',' 'NR==1 {for (i=1; i<=NF; i++) {f[$i] = i}}{if (NR==2) print $(f[\"Run\"]) }' ../GreatScience_SRA_data/runInfo.$acc.tsv | uniq`; do\n",
    "    prefetch $run_acc && vdb-validate $run_acc && fastq-dump -X 4 --split-3 $run_acc\n",
    "    cat $run_acc*.fastq\n",
    "  done\n",
    "done\n",
    "cd ..\n",
    "rm -r GreatScience_tmp"
   ]
  },
  {
   "cell_type": "markdown",
   "metadata": {},
   "source": [
    "**Step 7b**: If the files look alright, and the validation is okay, get the whole set (avoiding duplicates). This will take a while, if there are many files."
   ]
  },
  {
   "cell_type": "code",
   "execution_count": 27,
   "metadata": {},
   "outputs": [
    {
     "name": "stdout",
     "output_type": "stream",
     "text": [
      "Process is terminated.\n"
     ]
    }
   ],
   "source": [
    "%%bash\n",
    "mkdir GreatScience_seqs\n",
    "for acc in `cut -f 5 -d \",\" GreatScience_text_mining/GreatScience.csv | tail -n +2 | uniq`; do\n",
    "  awk -F ',' 'NR==1 {for (i=1; i<=NF; i++) {f[$i] = i}}{if (NR!=1) print $(f[\"Run\"]) }' GreatScience_SRA_data/runInfo.$acc.tsv >> GreatScience_SRA_data/GreatScience.runIDs.txt\n",
    "done\n",
    "cd GreatScience_seqs\n",
    "for run_acc in `cat ../GreatScience_SRA_data/GreatScience.runIDs.txt | sort | uniq`; do\n",
    "    prefetch $run_acc &>> GreatScience.getFastq.log && vdb-validate $run_acc &>> GreatScience.getFastq.log && fastq-dump --split-3 $run_acc &>> GreatScience.getFastq.log\n",
    "done"
   ]
  },
  {
   "cell_type": "markdown",
   "metadata": {},
   "source": [
    "We can review the validation results in the file `GreatScience_seqs/GreatScience.getFastq.log` ."
   ]
  }
 ],
 "metadata": {
  "kernelspec": {
   "display_name": "Python 3",
   "language": "python",
   "name": "python3"
  },
  "language_info": {
   "codemirror_mode": {
    "name": "ipython",
    "version": 3
   },
   "file_extension": ".py",
   "mimetype": "text/x-python",
   "name": "python",
   "nbconvert_exporter": "python",
   "pygments_lexer": "ipython3",
   "version": "3.6.7"
  }
 },
 "nbformat": 4,
 "nbformat_minor": 4
}
